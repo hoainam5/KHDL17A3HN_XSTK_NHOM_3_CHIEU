{
 "cells": [
  {
   "cell_type": "code",
   "execution_count": null,
   "metadata": {},
   "outputs": [],
   "source": [
    "def kiem_tra_menh_de(P_A, P_B, P_A_giao_B):\n",
    "    P_A_hop_B = P_A + P_B - P_A_giao_B\n",
    "    menh_de_1 = P_A_giao_B == 0 and P_A_hop_B == P_A + P_B\n",
    "    print(\"Mệnh đề 1:\", \"Đúng\" if menh_de_1 else \"Sai\")\n",
    "    menh_de_2 = P_A_hop_B == P_A + P_B and P_A_giao_B == 0\n",
    "    print(\"Mệnh đề 2:\", \"Đúng\" if menh_de_2 else \"Sai\")\n",
    "    P_A_bu = 1 - P_A\n",
    "    P_B_bu = 1 - P_B\n",
    "    P_A_hop_B_bu = 1 - P_A_hop_B\n",
    "    menh_de_3 = P_A_hop_B_bu == P_A_bu * P_B_bu\n",
    "    print(\"Mệnh đề 3:\", \"Đúng\" if menh_de_3 else \"Sai\")\n",
    "    P_A_giao_B_bu = 1 - P_A_giao_B\n",
    "    P_A_bu_hop_B_bu = P_A_bu + P_B_bu - P_A_bu * P_B_bu\n",
    "    menh_de_4 = P_A_giao_B_bu == P_A_bu_hop_B_bu\n",
    "    print(\"Mệnh đề 4:\", \"Đúng\" if menh_de_4 else \"Sai\")\n",
    "P_A = float(input(\"Nhập xác suất của sự kiện A (P(A)): \"))\n",
    "P_B = float(input(\"Nhập xác suất của sự kiện B (P(B)): \"))\n",
    "P_A_giao_B = float(input(\"Nhập xác suất của sự kiện A ∩ B (P(A ∩ B)): \"))\n",
    "kiem_tra_menh_de(P_A, P_B, P_A_giao_B)"
   ]
  }
 ],
 "metadata": {
  "language_info": {
   "name": "python"
  }
 },
 "nbformat": 4,
 "nbformat_minor": 2
}
