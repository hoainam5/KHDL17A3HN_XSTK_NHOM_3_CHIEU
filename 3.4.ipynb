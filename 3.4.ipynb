{
 "cells": [
  {
   "cell_type": "code",
   "execution_count": null,
   "metadata": {},
   "outputs": [],
   "source": [
    "import math\n",
    "p = 0.8\n",
    "k = 3\n",
    "dung_bang_6 = math.comb(6, k) * (p ** k) * ((1 - p) ** (6 - k))\n",
    "it_nhat_la_6 = 0\n",
    "for i in range(k, 7):\n",
    "    it_nhat_la_6 += math.comb(6, i) * (p ** i) * ((1 - p) ** (6 - i))\n",
    "nhieu_nhat_la_6 = 0\n",
    "for i in range(k + 1):\n",
    "    nhieu_nhat_la_6 += math.comb(6, i) * (p ** i) * ((1 - p) ** (6 - i))\n",
    "print(\"1) Xác suất để có đúng bằng 6 thành công:\", dung_bang_6)\n",
    "print(\"2) Xác suất để có ít nhất là 6 thành công:\", it_nhat_la_6)\n",
    "print(\"3) Xác suất để có nhiều nhất là 6 thành công:\", nhieu_nhat_la_6)"
   ]
  }
 ],
 "metadata": {
  "language_info": {
   "name": "python"
  }
 },
 "nbformat": 4,
 "nbformat_minor": 2
}
