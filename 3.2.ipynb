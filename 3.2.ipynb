{
 "cells": [
  {
   "cell_type": "code",
   "execution_count": null,
   "metadata": {},
   "outputs": [],
   "source": [
    "import math\n",
    "p = 0.01\n",
    "n = 20\n",
    "\n",
    "khong_truong_hop = (1 - p) ** n\n",
    "mot_truong_hop = math.comb(n, 1) * p * (1 - p) ** (n - 1)\n",
    "nhieu_hon_mot_truong_hop = 1 - khong_truong_hop - mot_truong_hop\n",
    "print(\"1) Xác suất không có trường hợp nào cần chăm sóc đặc biệt:\", khong_truong_hop)\n",
    "print(\"2) Xác suất có đúng một trường hợp cần chăm sóc đặc biệt:\", mot_truong_hop)\n",
    "print(\"3) Xác suất có nhiều hơn một trường hợp cần chăm sóc đặc biệt:\", nhieu_hon_mot_truong_hop)"
   ]
  }
 ],
 "metadata": {
  "language_info": {
   "name": "python"
  }
 },
 "nbformat": 4,
 "nbformat_minor": 2
}
