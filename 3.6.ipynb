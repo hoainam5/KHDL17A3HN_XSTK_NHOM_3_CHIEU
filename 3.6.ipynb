{
 "cells": [
  {
   "cell_type": "code",
   "execution_count": null,
   "metadata": {},
   "outputs": [],
   "source": [
    "import math\n",
    "#1\n",
    "def b(n, p):\n",
    "    pmf = [math.comb(n, k) * (p ** k) * ((1 - p) ** (n - k)) for k in range(n + 1)]\n",
    "    return pmf\n",
    "n_X, n_Y, p_X, p_Y = 2, 2, 0.4, 0.7\n",
    "p_XY = [0] * (n_X + n_Y + 1)\n",
    "for i in range(n_X + 1):\n",
    "    for j in range(n_Y + 1):\n",
    "        p_XY[i + j] += b(n_X, p_X)[i] * b(n_Y, p_Y)[j]\n",
    "print(\"Phân phối xác suất của X + Y:\")\n",
    "for k, p in enumerate(p_XY):\n",
    "    print(f\"P(X + Y = {k}) = {p:.4f}\")\n",
    "#2\n",
    "bmn = True\n",
    "for k in range(len(p_XY)):\n",
    "    if p_XY[k] != b(n_X + n_Y, p_X + p_Y)[k]:\n",
    "        bmn = False\n",
    "        break\n",
    "if bmn:\n",
    "    print(\"X + Y có thể có phân phối nhị thức.\")\n",
    "else:\n",
    "    print(\"X + Y không có phân phối nhị thức.\")"
   ]
  }
 ],
 "metadata": {
  "language_info": {
   "name": "python"
  }
 },
 "nbformat": 4,
 "nbformat_minor": 2
}
